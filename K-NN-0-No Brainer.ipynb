{
 "cells": [
  {
   "cell_type": "markdown",
   "metadata": {},
   "source": [
    "# K-NN Classifier - No Brainer\n",
    "\n",
    "In this notebook we create a KNN classifier model using Scikit-Learn for performing binary classification. \n",
    "\n",
    "- The goal is to show how to use Scikit-Learn to create a KNN model. \n",
    "\n",
    "We use the default values for the hyperparameters and don't perform any model selection.\n",
    "\n",
    "Obviously using a Machine Learning (ML) model with its default settings is not very useful. We need to understand the nuts and bolts of a ML model, the ML algorithm(s), model selection, model evaluation, and techniques for improving a model's performance. We will address these issues in the next notebooks of this repository. "
   ]
  },
  {
   "cell_type": "code",
   "execution_count": 1,
   "metadata": {},
   "outputs": [],
   "source": [
    "import numpy as np\n",
    "import matplotlib.pyplot as plt\n",
    "\n",
    "from sklearn import datasets\n",
    "from sklearn.neighbors import KNeighborsClassifier\n",
    "\n",
    "from sklearn.model_selection import train_test_split\n",
    "from sklearn.metrics import accuracy_score, confusion_matrix, precision_score, recall_score, f1_score"
   ]
  },
  {
   "cell_type": "markdown",
   "metadata": {},
   "source": [
    "## Dataset\n",
    "\n",
    "We will use the Iris dataset, which is a multivariate data set. It is a famous dataset that contains the sepal and petal length and width of 150 Iris flowers of three different species: Iris-Setosa, Iris-Versicolor, and Iris-Virginica\n",
    "\n",
    "There are 4 features: \n",
    "- sepal length (cm)\n",
    "- sepal width (cm)\n",
    "- petal length (cm)\n",
    "- petal width (cm)\n",
    "\n",
    "Total number of samples: 150\n",
    "\n",
    "The target (label) is coded as follows:\n",
    "- Setosa: 0\n",
    "- Versicolor: 1\n",
    "- Virginica: 2\n",
    "\n",
    "<img src=\"https://cse.unl.edu/~hasan/IrisFlowers.png\" width=800, height=400>\n"
   ]
  },
  {
   "cell_type": "markdown",
   "metadata": {},
   "source": [
    "## Load the Dataset"
   ]
  },
  {
   "cell_type": "code",
   "execution_count": 2,
   "metadata": {},
   "outputs": [
    {
     "name": "stdout",
     "output_type": "stream",
     "text": [
      "\n",
      "Key Values: \n",
      " ['data', 'target', 'target_names', 'DESCR', 'feature_names', 'filename']\n",
      "\n",
      "Feature Names: \n",
      " ['sepal length (cm)', 'sepal width (cm)', 'petal length (cm)', 'petal width (cm)']\n",
      "\n",
      "Target Names: \n",
      " ['setosa', 'versicolor', 'virginica']\n"
     ]
    }
   ],
   "source": [
    "# Load the dataset\n",
    "iris = datasets.load_iris()\n",
    "\n",
    "# See the key values\n",
    "print(\"\\nKey Values: \\n\", list(iris.keys()))\n",
    "\n",
    "# The feature names\n",
    "print(\"\\nFeature Names: \\n\", list(iris.feature_names))\n",
    "\n",
    "# The target names\n",
    "print(\"\\nTarget Names: \\n\", list(iris.target_names))\n"
   ]
  },
  {
   "cell_type": "markdown",
   "metadata": {},
   "source": [
    "## Create the Data Matrix (X) and the Target Array (y)\n",
    "\n",
    "Our goal is to detect the Iris-Virginica type. In the above Target array, the index for Virginica is 2.\n",
    "\n",
    "Thus, we create a binary target vector by putting 1 if the target value is 2 (Iris-Virginica), else we put 0."
   ]
  },
  {
   "cell_type": "code",
   "execution_count": 3,
   "metadata": {},
   "outputs": [
    {
     "name": "stdout",
     "output_type": "stream",
     "text": [
      "(150, 4)\n",
      "(150,)\n",
      "\n",
      "X data type:  float64\n",
      "y data type:  int64\n"
     ]
    }
   ],
   "source": [
    "# Data Matrix\n",
    "X = iris[\"data\"]\n",
    "\n",
    "# Target Vector\n",
    "y = (iris[\"target\"] == 2).astype(np.int)  # 1 if Iris-Virginica, else 0\n",
    "\n",
    "print(X.shape)\n",
    "print(y.shape)\n",
    "\n",
    "print(\"\\nX data type: \", X.dtype)\n",
    "print(\"y data type: \", y.dtype)"
   ]
  },
  {
   "cell_type": "markdown",
   "metadata": {},
   "source": [
    "## Visualize the Distribution of Classes using a Bar Chart"
   ]
  },
  {
   "cell_type": "code",
   "execution_count": 4,
   "metadata": {},
   "outputs": [
    {
     "name": "stdout",
     "output_type": "stream",
     "text": [
      "Total Virginica:  50\n",
      "Total Not-Virginica:  100\n"
     ]
    }
   ],
   "source": [
    "# Count number of samples in each class\n",
    "y_virginica = 0\n",
    "y_not_virginica = 0\n",
    "\n",
    "for i in range(len(y)):\n",
    "    if(y[i] == 1):\n",
    "        y_virginica += 1\n",
    "    else:\n",
    "        y_not_virginica +=1\n",
    "        \n",
    "        \n",
    "print(\"Total Virginica: \", y_virginica)\n",
    "print(\"Total Not-Virginica: \", y_not_virginica)"
   ]
  },
  {
   "cell_type": "code",
   "execution_count": 5,
   "metadata": {},
   "outputs": [
    {
     "data": {
      "image/png": "[encoded data removed]",
      "text/plain": [
       "<Figure size 576x576 with 1 Axes>"
      ]
     },
     "metadata": {
      "needs_background": "light"
     },
     "output_type": "display_data"
    }
   ],
   "source": [
    "plt.figure(figsize = (8, 8))\n",
    "\n",
    "classes = ['Virginica', 'Not-Virginica']\n",
    "data = [y_virginica, y_not_virginica]\n",
    "\n",
    "plt.bar(range(len(classes)), data, width=0.5, color='y')\n",
    "\n",
    "'''\n",
    "Plt a single bar per class individually\n",
    "'''\n",
    "# plt.bar(0, y_virginica, width=0.5,color='y')\n",
    "# plt.bar(1, y_not_virginica, width=0.5, color='c')\n",
    "\n",
    "\n",
    "plt.title(\"Distribution of Classes\")\n",
    "plt.ylabel(\"Number of instances\")\n",
    "\n",
    "# label x-axis with class names at bar centers\n",
    "plt.xticks(range(len(classes)), classes)\n",
    "plt.show()"
   ]
  },
  {
   "cell_type": "markdown",
   "metadata": {},
   "source": [
    "## Create Training & Test Subsets"
   ]
  },
  {
   "cell_type": "code",
   "execution_count": 6,
   "metadata": {},
   "outputs": [],
   "source": [
    "X_train, X_test, y_train, y_test = train_test_split(X, y, test_size=0.2, random_state=0)"
   ]
  },
  {
   "cell_type": "markdown",
   "metadata": {},
   "source": [
    "## Create a KNN Classifier Model"
   ]
  },
  {
   "cell_type": "code",
   "execution_count": 7,
   "metadata": {},
   "outputs": [
    {
     "name": "stdout",
     "output_type": "stream",
     "text": [
      "CPU times: user 871 µs, sys: 520 µs, total: 1.39 ms\n",
      "Wall time: 928 µs\n"
     ]
    },
    {
     "data": {
      "text/plain": [
       "KNeighborsClassifier(algorithm='auto', leaf_size=30, metric='minkowski',\n",
       "                     metric_params=None, n_jobs=None, n_neighbors=5, p=2,\n",
       "                     weights='uniform')"
      ]
     },
     "execution_count": 7,
     "metadata": {},
     "output_type": "execute_result"
    }
   ],
   "source": [
    "%%time\n",
    "\n",
    "knn = KNeighborsClassifier()\n",
    "\n",
    "knn.fit(X_train, y_train)"
   ]
  },
  {
   "cell_type": "markdown",
   "metadata": {},
   "source": [
    "## Evaluation: Training Data"
   ]
  },
  {
   "cell_type": "code",
   "execution_count": 8,
   "metadata": {},
   "outputs": [
    {
     "name": "stdout",
     "output_type": "stream",
     "text": [
      "\n",
      "Training Accuracy:  0.95\n",
      "CPU times: user 6.58 ms, sys: 2.86 ms, total: 9.44 ms\n",
      "Wall time: 6.69 ms\n"
     ]
    }
   ],
   "source": [
    "%%time\n",
    "\n",
    "y_train_predicted = knn.predict(X_train)\n",
    "\n",
    "train_accuracy_knn = np.mean(y_train_predicted == y_train)\n",
    "print(\"\\nTraining Accuracy: \", train_accuracy_knn)"
   ]
  },
  {
   "cell_type": "markdown",
   "metadata": {},
   "source": [
    "## Evaluation: Test Data"
   ]
  },
  {
   "cell_type": "code",
   "execution_count": 9,
   "metadata": {},
   "outputs": [
    {
     "name": "stdout",
     "output_type": "stream",
     "text": [
      "\n",
      "Test Accuracy:  0.9666666666666667\n",
      "\n",
      "No. of correct predictions (Test): 29/30\n",
      "CPU times: user 6.25 ms, sys: 2.59 ms, total: 8.84 ms\n",
      "Wall time: 6.91 ms\n"
     ]
    }
   ],
   "source": [
    "%%time\n",
    "\n",
    "# The accuracy of the model\n",
    "test_accuracy_knn = knn.score(X_test, y_test)\n",
    "print(\"\\nTest Accuracy: \", test_accuracy_knn)\n",
    "\n",
    "\n",
    "# No. of Correct Predictions\n",
    "y_test_predicted = knn.predict(X_test)\n",
    "print(\"\\nNo. of correct predictions (Test): %d/%d\" % (np.sum(y_test_predicted == y_test), len(y_test)))"
   ]
  },
  {
   "cell_type": "markdown",
   "metadata": {},
   "source": [
    "## Other Performce Measures"
   ]
  },
  {
   "cell_type": "code",
   "execution_count": 10,
   "metadata": {},
   "outputs": [
    {
     "name": "stdout",
     "output_type": "stream",
     "text": [
      "\n",
      "Confusion Matrix (Test Data):\n",
      " [[23  1]\n",
      " [ 0  6]]\n",
      "\n",
      "Test: Precision = 0.857143\n",
      "Test: Recall = 1.000000\n",
      "Test: F1 Score = 0.923077\n"
     ]
    }
   ],
   "source": [
    "print(\"\\nConfusion Matrix (Test Data):\\n\", confusion_matrix(y_test, y_test_predicted))\n",
    "\n",
    "precision = precision_score(y_test, y_test_predicted) \n",
    "print(\"\\nTest: Precision = %f\" % precision)\n",
    "\n",
    "recall = recall_score(y_test, y_test_predicted)\n",
    "print(\"Test: Recall = %f\" % recall)\n",
    "\n",
    "\n",
    "f1 = f1_score(y_test, y_test_predicted)\n",
    "print(\"Test: F1 Score = %f\" % f1)"
   ]
  }
 ],
 "metadata": {
  "kernelspec": {
   "display_name": "Python 3",
   "language": "python",
   "name": "python3"
  },
  "language_info": {
   "codemirror_mode": {
    "name": "ipython",
    "version": 3
   },
   "file_extension": ".py",
   "mimetype": "text/x-python",
   "name": "python",
   "nbconvert_exporter": "python",
   "pygments_lexer": "ipython3",
   "version": "3.7.3"
  }
 },
 "nbformat": 4,
 "nbformat_minor": 2
}
